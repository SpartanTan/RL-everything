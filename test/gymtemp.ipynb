{
 "cells": [
  {
   "cell_type": "code",
   "execution_count": 67,
   "metadata": {},
   "outputs": [],
   "source": [
    "import gymnasium as gym\n",
    "import numpy as np\n",
    "from gymnasium import logger, spaces"
   ]
  },
  {
   "cell_type": "code",
   "execution_count": 12,
   "metadata": {},
   "outputs": [
    {
     "name": "stdout",
     "output_type": "stream",
     "text": [
      "(4,)\n",
      "4\n",
      "(3, 4)\n",
      "12\n"
     ]
    }
   ],
   "source": [
    "single_observation_space = spaces.Box(low=np.array([-1.0, -2.0, -1.0, -2.0]), high=np.array([2.0, 4.0, 3.0, 4.0]), dtype=np.float32)\n",
    "print(single_observation_space.shape)\n",
    "\n",
    "print(np.array(single_observation_space.shape).prod())\n",
    "\n",
    "\n",
    "single_observation_space = spaces.Box(low=-1.0, high=2.0, shape=(3, 4), dtype=np.float32)\n",
    "print(single_observation_space.shape)\n",
    "\n",
    "print(np.array(single_observation_space.shape).prod())\n"
   ]
  },
  {
   "cell_type": "code",
   "execution_count": 95,
   "metadata": {},
   "outputs": [
    {
     "name": "stdout",
     "output_type": "stream",
     "text": [
      "[0 1 2 3 4 5 6 7 8 9]\n"
     ]
    }
   ],
   "source": [
    "b_inds = np.arange(10)\n",
    "print(b_inds)"
   ]
  },
  {
   "cell_type": "code",
   "execution_count": 71,
   "metadata": {},
   "outputs": [
    {
     "name": "stdout",
     "output_type": "stream",
     "text": [
      "[[1.218801   1.5734607  1.9244717  1.7615107  1.7921698  0.30776575]\n",
      " [0.3802162  1.7118129  0.7561735  1.8882654  1.6763033  0.05508927]\n",
      " [2.4410474  1.9189606  2.620124   2.8012583  2.4038153  1.5757871 ]\n",
      " [1.5236443  1.5643775  1.9509047  2.759129   0.04334366 1.8953404 ]]\n",
      "[[1.218801   0.3802162  2.4410474  1.5236443 ]\n",
      " [1.5734607  1.7118129  1.9189606  1.5643775 ]\n",
      " [1.9244717  0.7561735  2.620124   1.9509047 ]\n",
      " [1.7615107  1.8882654  2.8012583  2.759129  ]\n",
      " [1.7921698  1.6763033  2.4038153  0.04334366]\n",
      " [0.30776575 0.05508927 1.5757871  1.8953404 ]]\n",
      "<class '__main__.testVecEnv'>\n"
     ]
    }
   ],
   "source": [
    "class testVecEnv(gym.vector.VectorEnv):\n",
    "    def __init__(self, num_envs):\n",
    "        state = self.np_random.uniform(\n",
    "                    low=0, high=3, size=(4, num_envs)\n",
    "                ).astype(np.float32)\n",
    "        print(state)\n",
    "        print(state.T)\n",
    "\n",
    "testENv = testVecEnv(6)\n"
   ]
  },
  {
   "cell_type": "code",
   "execution_count": 66,
   "metadata": {},
   "outputs": [
    {
     "name": "stdout",
     "output_type": "stream",
     "text": [
      "False\n",
      "1.0\n"
     ]
    }
   ],
   "source": [
    "tt = (5<2|5<3)\n",
    "print(tt)\n",
    "print(np.ones_like(tt,dtype=np.float32))"
   ]
  }
 ],
 "metadata": {
  "kernelspec": {
   "display_name": "ros2_env",
   "language": "python",
   "name": "python3"
  },
  "language_info": {
   "codemirror_mode": {
    "name": "ipython",
    "version": 3
   },
   "file_extension": ".py",
   "mimetype": "text/x-python",
   "name": "python",
   "nbconvert_exporter": "python",
   "pygments_lexer": "ipython3",
   "version": "3.10.10"
  },
  "orig_nbformat": 4
 },
 "nbformat": 4,
 "nbformat_minor": 2
}
