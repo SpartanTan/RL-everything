{
 "cells": [
  {
   "cell_type": "code",
   "execution_count": 1,
   "metadata": {},
   "outputs": [],
   "source": [
    "import torch\n",
    "from torch.distributions.categorical import Categorical"
   ]
  },
  {
   "cell_type": "code",
   "execution_count": 50,
   "metadata": {},
   "outputs": [
    {
     "name": "stdout",
     "output_type": "stream",
     "text": [
      "torch.Size([3])\n",
      "tensor([-1.2040, -0.2231, -0.6931])\n"
     ]
    }
   ],
   "source": [
    "m = Categorical(torch.tensor([[0.7, 0.3],\n",
    "                              [0.2, 0.8],\n",
    "                              [0.5, 0.5]]))\n",
    "action = m.sample()\n",
    "print(action.shape)\n",
    "prob = m.log_prob(action)\n",
    "print(prob)"
   ]
  },
  {
   "cell_type": "code",
   "execution_count": 51,
   "metadata": {},
   "outputs": [
    {
     "name": "stdout",
     "output_type": "stream",
     "text": [
      "tensor([ 0.0140, -0.0044,  0.0003, -0.0013])\n",
      "<class 'torch.Tensor'>\n"
     ]
    }
   ],
   "source": [
    "testtensor = torch.tensor([[ 0.0140],\n",
    "        [-0.0044],\n",
    "        [ 0.0003],\n",
    "        [-0.0013]])\n",
    "print(testtensor.flatten())\n",
    "print(type(testtensor))"
   ]
  }
 ],
 "metadata": {
  "kernelspec": {
   "display_name": "ros2_env",
   "language": "python",
   "name": "python3"
  },
  "language_info": {
   "codemirror_mode": {
    "name": "ipython",
    "version": 3
   },
   "file_extension": ".py",
   "mimetype": "text/x-python",
   "name": "python",
   "nbconvert_exporter": "python",
   "pygments_lexer": "ipython3",
   "version": "3.10.10"
  },
  "orig_nbformat": 4
 },
 "nbformat": 4,
 "nbformat_minor": 2
}
