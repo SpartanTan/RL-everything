{
 "cells": [
  {
   "cell_type": "code",
   "execution_count": 1,
   "metadata": {},
   "outputs": [],
   "source": [
    "import torch\n",
    "import torch.nn as nn\n",
    "import torch.optim as optim\n",
    "from torch.distributions import Categorical, Normal\n",
    "\n"
   ]
  },
  {
   "cell_type": "code",
   "execution_count": 17,
   "metadata": {},
   "outputs": [
    {
     "name": "stdout",
     "output_type": "stream",
     "text": [
      "tensor([0.6905])\n",
      "tensor([1.9947])\n",
      "tensor([0.5000])\n",
      "tensor(-0.0610)\n"
     ]
    }
   ],
   "source": [
    "probs = Normal(0.0, 0.2)\n",
    "log_probs = probs.log_prob(torch.Tensor([0.0]))\n",
    "prob = probs.cdf(torch.Tensor([0.0]))\n",
    "print(log_probs)\n",
    "print(torch.exp(log_probs))\n",
    "print(prob)\n",
    "print(probs.sample())"
   ]
  }
 ],
 "metadata": {
  "kernelspec": {
   "display_name": "ros2_env",
   "language": "python",
   "name": "python3"
  },
  "language_info": {
   "codemirror_mode": {
    "name": "ipython",
    "version": 3
   },
   "file_extension": ".py",
   "mimetype": "text/x-python",
   "name": "python",
   "nbconvert_exporter": "python",
   "pygments_lexer": "ipython3",
   "version": "3.10.10"
  },
  "orig_nbformat": 4
 },
 "nbformat": 4,
 "nbformat_minor": 2
}
