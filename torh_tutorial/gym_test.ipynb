{
 "cells": [
  {
   "cell_type": "code",
   "execution_count": 3,
   "metadata": {},
   "outputs": [],
   "source": [
    "import gymnasium as gym\n",
    "from gymnasium import spaces\n",
    "import numpy as np"
   ]
  },
  {
   "cell_type": "code",
   "execution_count": 34,
   "metadata": {},
   "outputs": [
    {
     "name": "stdout",
     "output_type": "stream",
     "text": [
      "OrderedDict([('agent', array([-2.978665 ,  1.6961849,  1.4060092], dtype=float32)), ('distance_to_wall', array([1.72639921])), ('is_it_dangerous', 0), ('target', array([  2.1046932, -10.       ], dtype=float32))])\n",
      "(3,)\n",
      "(3,)\n"
     ]
    }
   ],
   "source": [
    "x_min = -10\n",
    "x_max = 10\n",
    "y_min = -10\n",
    "y_max = 10\n",
    "heading_min = -np.pi\n",
    "heading_max = np.pi\n",
    "\n",
    "observation_space = spaces.Dict(\n",
    "    {\n",
    "        \"agent\": spaces.Box(low=np.array([x_min, y_min, heading_min]), high=np.array([x_max, y_max, heading_max]), shape=(3,), dtype=np.float32),\n",
    "        \"target\": spaces.Box(low=np.array([x_min, y_min]), high=np.array([x_max, y_max]), shape=(2,), dtype=np.float32),\n",
    "        \"is_it_dangerous\": spaces.Discrete(2),\n",
    "        \"distance_to_wall\": spaces.Box(low=0.0, high=10.0, dtype=float),\n",
    "        \n",
    "    }\n",
    ")\n",
    "\n",
    "obs_sample = observation_space.sample()\n",
    "print(obs_sample)\n",
    "state = obs_sample['agent']\n",
    "print(state.shape)\n",
    "\n",
    "fake_state = np.array([3, 2, 0], dtype=float)\n",
    "print(fake_state.shape)"
   ]
  },
  {
   "cell_type": "code",
   "execution_count": null,
   "metadata": {},
   "outputs": [],
   "source": []
  }
 ],
 "metadata": {
  "kernelspec": {
   "display_name": "ros2_env",
   "language": "python",
   "name": "python3"
  },
  "language_info": {
   "codemirror_mode": {
    "name": "ipython",
    "version": 3
   },
   "file_extension": ".py",
   "mimetype": "text/x-python",
   "name": "python",
   "nbconvert_exporter": "python",
   "pygments_lexer": "ipython3",
   "version": "3.10.10"
  },
  "orig_nbformat": 4
 },
 "nbformat": 4,
 "nbformat_minor": 2
}
