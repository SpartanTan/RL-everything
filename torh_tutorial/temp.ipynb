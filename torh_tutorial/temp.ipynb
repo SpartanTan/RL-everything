{
 "cells": [
  {
   "cell_type": "code",
   "execution_count": 2,
   "metadata": {},
   "outputs": [],
   "source": [
    "import torch\n",
    "import torch.nn as nn"
   ]
  },
  {
   "cell_type": "code",
   "execution_count": 4,
   "metadata": {},
   "outputs": [],
   "source": [
    "cc = torch.tensor([True, True, False, False])"
   ]
  },
  {
   "cell_type": "code",
   "execution_count": 146,
   "metadata": {},
   "outputs": [
    {
     "name": "stdout",
     "output_type": "stream",
     "text": [
      "tensor([1, 1, 0, 0], dtype=torch.int32)\n"
     ]
    }
   ],
   "source": [
    "dones = torch.zeros((6, 4))\n",
    "next_done = torch.tensor([True, True, False, False])\n",
    "next_done = next_done.to(torch.int)\n",
    "print(next_done)"
   ]
  },
  {
   "cell_type": "code",
   "execution_count": 19,
   "metadata": {},
   "outputs": [
    {
     "name": "stdout",
     "output_type": "stream",
     "text": [
      "tensor([[-0.6487, -0.0209,  0.7608],\n",
      "        [ 0.5225,  0.7146,  0.4651],\n",
      "        [-0.5533,  0.6992, -0.4526]])\n",
      "tensor([-0.0209,  0.7146,  0.6992])\n",
      "tensor(0.)\n",
      "tensor([[ 1.0000e+00, -2.9802e-08,  2.9802e-08],\n",
      "        [-2.9802e-08,  1.0000e+00, -4.4703e-08],\n",
      "        [ 2.9802e-08, -4.4703e-08,  1.0000e+00]])\n"
     ]
    }
   ],
   "source": [
    "print(w)\n",
    "print(w[:,1])\n",
    "cc = torch.dot(w[:,0].T, w[:,1].T)\n",
    "print(cc)\n",
    "\n",
    "print(torch.matmul(w, w.t()))"
   ]
  },
  {
   "attachments": {},
   "cell_type": "markdown",
   "metadata": {},
   "source": [
    "torch.nn.Linear(in_features, out_features, bias=True, device=None, dtype=None)  \n",
    "$y = xA^T+B$\n",
    "Variabels:\n",
    "- weight(torch.Tensor): shape(out_feature, in_feature)\n",
    "- bias: shape(out_feature)\n",
    "\n",
    "example:\n",
    "```python\n",
    "m = nn.Linear(20,30)\n",
    "print(m.weight.shape)\n",
    "```\n",
    "will give (30, 20)\n",
    "So [1x30] = [1*20] *[20 * 30] + [30 *1]  \n",
    "$A^T$ is [20 *30]  \n",
    "A therefore is [30 * 20]  \n",
    "The orthogonal_ make this matrix $A^TA=I$  \n",
    "The gain in the orthogonal_ is multiplied to each element "
   ]
  },
  {
   "cell_type": "code",
   "execution_count": 32,
   "metadata": {},
   "outputs": [
    {
     "name": "stdout",
     "output_type": "stream",
     "text": [
      "torch.Size([1, 20])\n"
     ]
    }
   ],
   "source": [
    "m = nn.Linear(20,1)\n",
    "input = torch.randn(20)\n",
    "output = m(input)\n",
    "print(m.weight.shape)"
   ]
  },
  {
   "cell_type": "code",
   "execution_count": 81,
   "metadata": {},
   "outputs": [
    {
     "name": "stdout",
     "output_type": "stream",
     "text": [
      "torch.Size([1, 1])\n",
      "Parameter containing:\n",
      "tensor([[0.9205]], requires_grad=True)\n",
      "Parameter containing:\n",
      "tensor([-0.0694], requires_grad=True)\n"
     ]
    }
   ],
   "source": [
    "model = nn.Linear(1, 1)\n",
    "\n",
    "print(model.weight.size())\n",
    "print(model.weight)\n",
    "print(model.bias)\n",
    "loss_function = nn.MSELoss()"
   ]
  },
  {
   "cell_type": "code",
   "execution_count": 84,
   "metadata": {},
   "outputs": [
    {
     "name": "stdout",
     "output_type": "stream",
     "text": [
      "tensor([[0.8510],\n",
      "        [1.7715],\n",
      "        [2.6920],\n",
      "        [3.6124]], grad_fn=<AddmmBackward0>)\n",
      "Parameter containing:\n",
      "tensor([[0.9205]], requires_grad=True)\n",
      "tensor([[10.]])\n",
      "tensor([[0.9205],\n",
      "        [0.9205],\n",
      "        [0.9205],\n",
      "        [0.9205]])\n"
     ]
    }
   ],
   "source": [
    "# optimizer = torch.optim.SGD(model.parameters(), lr=0.01)\n",
    "inputs = torch.tensor([[1.0], [2.0], [3.0], [4.0]], requires_grad=True)\n",
    "# targets = torch.tensor([[2.0], [4.0], [6.0], [8.0]])\n",
    "predictions = model(inputs)\n",
    "print(predictions)\n",
    "\n",
    "model.zero_grad()\n",
    "predictions.backward(torch.ones_like(predictions))\n",
    "\n",
    "print(model.weight)\n",
    "print(model.weight.grad)\n",
    "print(inputs.grad)\n",
    "# loss = loss_function(predictions, inputs)\n",
    "# print(loss)\n"
   ]
  }
 ],
 "metadata": {
  "kernelspec": {
   "display_name": "ros2_env",
   "language": "python",
   "name": "python3"
  },
  "language_info": {
   "codemirror_mode": {
    "name": "ipython",
    "version": 3
   },
   "file_extension": ".py",
   "mimetype": "text/x-python",
   "name": "python",
   "nbconvert_exporter": "python",
   "pygments_lexer": "ipython3",
   "version": "3.10.10"
  },
  "orig_nbformat": 4
 },
 "nbformat": 4,
 "nbformat_minor": 2
}
